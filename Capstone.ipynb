{
 "cells": [
  {
   "cell_type": "code",
   "execution_count": null,
   "id": "19d2cd01-f1b1-4eef-a89c-2e4bccf945cb",
   "metadata": {},
   "outputs": [],
   "source": [
    "from tqdm import tqdm  #from tqdm import tqdm  #"
   ]
  },
  {
   "cell_type": "code",
   "execution_count": 2,
   "id": "81977c04-2826-4b39-8292-bc43969d33e1",
   "metadata": {},
   "outputs": [],
   "source": [
    "import geopandas as gpd\n",
    "import pandas as pd\n",
    "import zipfile\n",
    "import requests\n",
    "from datetime import datetime, timedelta\n",
    "import os\n",
    "from tqdm import tqdm"
   ]
  },
  {
   "cell_type": "markdown",
   "id": "1da6c926-9c1c-4621-8387-21279322a701",
   "metadata": {},
   "source": [
    "## LOAD SMOKE SHAPEFILE SCRIPT"
   ]
  },
  {
   "cell_type": "code",
   "execution_count": 6,
   "id": "6c69aff6-d9ce-4d6c-9e34-a29900b2ec64",
   "metadata": {},
   "outputs": [
    {
     "name": "stderr",
     "output_type": "stream",
     "text": [
      "100%|███████████████████████████████████████████████████████████████████████████████| 731/731 [00:01<00:00, 467.22it/s]\n"
     ]
    }
   ],
   "source": [
    "base_dir = r\"E:\\Capstone\\hms_smoke_2023_to_2024\"\n",
    "\n",
    "smoke = []\n",
    "\n",
    "for folder in tqdm(sorted(os.listdir(base_dir))):\n",
    "    folder_path = os.path.join(base_dir, folder)\n",
    "\n",
    "    if os.path.isdir(folder_path):\n",
    "        # Extract the date string from folder name (assumes format: hms_smoke_YYYYMMDD)\n",
    "        try:\n",
    "            date_str = folder.split(\"_\")[-1]  # \"20230101\"\n",
    "            date = pd.to_datetime(date_str, format=\"%Y%m%d\")\n",
    "        except Exception as e:\n",
    "            print(f\"Skipping folder {folder} due to date parsing error: {e}\")\n",
    "            continue\n",
    "\n",
    "        # Look for .shp file inside the folder\n",
    "        for file in os.listdir(folder_path):\n",
    "            if file.endswith(\".shp\"):\n",
    "                shp_path = os.path.join(folder_path, file)\n",
    "                try:\n",
    "                    gdf = gpd.read_file(shp_path)\n",
    "                    gdf[\"date\"] = date  # assign parsed date\n",
    "                    smoke.append(gdf)\n",
    "                except Exception as e:\n",
    "                    print(f\"Failed to read {shp_path}: {e}\")\n",
    "                break  # Only one shapefile per folder\n",
    "\n",
    "# Combine all into one GeoDataFrame\n",
    "if smoke:\n",
    "    all_smoke_gdf = gpd.GeoDataFrame(pd.concat(smoke, ignore_index=True))\n",
    "    all_smoke_gdf.head()\n",
    "else:\n",
    "    print(\"No shapefiles loaded.\")"
   ]
  },
  {
   "cell_type": "markdown",
   "id": "43f7e4ff-c72d-4a7a-af17-07bd6cb52f8d",
   "metadata": {},
   "source": [
    "## LOAD FIRE SHAPEFILE SCRIPT"
   ]
  },
  {
   "cell_type": "code",
   "execution_count": 10,
   "id": "e1b544ac-3eec-4114-b9c9-5fbef3ba2950",
   "metadata": {},
   "outputs": [
    {
     "name": "stderr",
     "output_type": "stream",
     "text": [
      "100%|████████████████████████████████████████████████████████████████████████████████| 731/731 [02:22<00:00,  5.12it/s]\n"
     ]
    }
   ],
   "source": [
    "import os\n",
    "import geopandas as gpd\n",
    "import pandas as pd\n",
    "from tqdm import tqdm\n",
    "\n",
    "# Set the path to your fire shapefiles folder\n",
    "base_dir = r\"E:\\Capstone\\hms_shapefile_fire_2023_to_2024\"\n",
    "\n",
    "# Empty list to store daily GeoDataFrames\n",
    "fire = []\n",
    "\n",
    "# Loop through each subfolder (one per day)\n",
    "for folder in tqdm(sorted(os.listdir(base_dir))):\n",
    "    folder_path = os.path.join(base_dir, folder)\n",
    "\n",
    "    if os.path.isdir(folder_path):\n",
    "        try:\n",
    "            # Extract date from folder name: e.g., 'hms_fire_20230101' -> '20230101'\n",
    "            date_str = folder.split(\"_\")[-1]\n",
    "            date = pd.to_datetime(date_str, format=\"%Y%m%d\")\n",
    "        except Exception as e:\n",
    "            print(f\"Skipping folder {folder}: couldn't parse date - {e}\")\n",
    "            continue\n",
    "\n",
    "        # Look for the .shp file inside the folder\n",
    "        for file in os.listdir(folder_path):\n",
    "            if file.endswith(\".shp\"):\n",
    "                shp_path = os.path.join(folder_path, file)\n",
    "                try:\n",
    "                    gdf = gpd.read_file(shp_path)\n",
    "                    gdf[\"date\"] = date  # Add a date column\n",
    "                    fire.append(gdf)\n",
    "                except Exception as e:\n",
    "                    print(f\"Failed to read {shp_path}: {e}\")\n",
    "                break  # Only one shapefile per folder\n",
    "\n",
    "# Combine all GeoDataFrames into one\n",
    "if fire:\n",
    "    all_fire_gdf = gpd.GeoDataFrame(pd.concat(fire, ignore_index=True))\n",
    "    all_fire_gdf.head()\n",
    "else:\n",
    "    print(\"No fire shapefiles were successfully loaded.\")\n"
   ]
  },
  {
   "cell_type": "code",
   "execution_count": 9,
   "id": "e50add77-7d40-484f-bedd-b7878dafea91",
   "metadata": {},
   "outputs": [
    {
     "ename": "NameError",
     "evalue": "name 'all_fire_gdf' is not defined",
     "output_type": "error",
     "traceback": [
      "\u001b[1;31m---------------------------------------------------------------------------\u001b[0m",
      "\u001b[1;31mNameError\u001b[0m                                 Traceback (most recent call last)",
      "Cell \u001b[1;32mIn[9], line 1\u001b[0m\n\u001b[1;32m----> 1\u001b[0m \u001b[38;5;28;01mdel\u001b[39;00m all_fire_gdf\n",
      "\u001b[1;31mNameError\u001b[0m: name 'all_fire_gdf' is not defined"
     ]
    }
   ],
   "source": [
    "del all_fire_gdf"
   ]
  },
  {
   "cell_type": "code",
   "execution_count": null,
   "id": "8a796eb2-bba9-4de4-9264-9b8555760204",
   "metadata": {},
   "outputs": [],
   "source": []
  }
 ],
 "metadata": {
  "kernelspec": {
   "display_name": "Python 3 (ipykernel)",
   "language": "python",
   "name": "python3"
  },
  "language_info": {
   "codemirror_mode": {
    "name": "ipython",
    "version": 3
   },
   "file_extension": ".py",
   "mimetype": "text/x-python",
   "name": "python",
   "nbconvert_exporter": "python",
   "pygments_lexer": "ipython3",
   "version": "3.11.7"
  }
 },
 "nbformat": 4,
 "nbformat_minor": 5
}
